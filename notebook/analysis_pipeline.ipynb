{
 "cells": [
  {
   "cell_type": "markdown",
   "metadata": {},
   "source": [
    "# Pipeline for analysis"
   ]
  },
  {
   "cell_type": "markdown",
   "metadata": {},
   "source": [
    "All the data used in the original run can be found on the github page"
   ]
  },
  {
   "cell_type": "markdown",
   "metadata": {},
   "source": [
    "## Pre processing raw data"
   ]
  },
  {
   "cell_type": "markdown",
   "metadata": {},
   "source": [
    "Importing the appropiate directories"
   ]
  },
  {
   "cell_type": "code",
   "execution_count": null,
   "metadata": {},
   "outputs": [],
   "source": [
    "from DE import networkAnalysis as na"
   ]
  },
  {
   "cell_type": "markdown",
   "metadata": {},
   "source": [
    "clusterDirectory need to point towards directory in which all the clusters can be found. \n",
    "It will then loop through all of the data files, gathering the sample ids from all cluster and create individual .csv files for analysis in R"
   ]
  },
  {
   "cell_type": "code",
   "execution_count": null,
   "metadata": {
    "scrolled": false
   },
   "outputs": [],
   "source": [
    "csvpath = \"folderPath/gex.tsv\"\n",
    "obj = na()\n",
    "obj.readCsv(csvpath, sep = '\\t')\n",
    "#obj.renameCol('Unnamed: 0', 'gene_id')"
   ]
  },
  {
   "cell_type": "code",
   "execution_count": null,
   "metadata": {
    "scrolled": false
   },
   "outputs": [],
   "source": [
    "obj.preProcess()"
   ]
  },
  {
   "cell_type": "code",
   "execution_count": null,
   "metadata": {},
   "outputs": [],
   "source": [
    "#Set which bottom percentage you intend to filter away\n",
    "bottom = 0.75\n",
    "obj.preFilter(bottom)"
   ]
  },
  {
   "cell_type": "code",
   "execution_count": null,
   "metadata": {},
   "outputs": [],
   "source": [
    "#Writes the pre processed and filtered, MUST be .txt and tab separated values\n",
    "obj.filterDf.to_csv(f'folderPath/yourDesiredFileName.txt', sep = '\\t', index = False)"
   ]
  },
  {
   "cell_type": "markdown",
   "metadata": {},
   "source": [
    "## Visualizing SRIQ output"
   ]
  },
  {
   "cell_type": "markdown",
   "metadata": {},
   "source": [
    "Creates the object from the SRIQ output"
   ]
  },
  {
   "cell_type": "code",
   "execution_count": null,
   "metadata": {},
   "outputs": [],
   "source": [
    "from DE import networkAnalysis as na\n",
    "\n"
   ]
  },
  {
   "cell_type": "code",
   "execution_count": null,
   "metadata": {
    "scrolled": true
   },
   "outputs": [],
   "source": [
    "from DE import networkAnalysis as na\n",
    "import pandas as pd\n",
    "import seaborn as sns\n",
    "csvpath = 'folderPath/expressionData.txt'\n",
    "clusterpath = 'folderPath/SRIQClusterSolutionFolder'\n",
    "\n",
    "test = na()\n",
    "colName = 'Gene'\n",
    "test.readSRIQ(csvpath, clusterpath, columnname = colName)"
   ]
  },
  {
   "cell_type": "markdown",
   "metadata": {},
   "source": [
    "## Visualization of variation"
   ]
  },
  {
   "cell_type": "code",
   "execution_count": null,
   "metadata": {
    "scrolled": true
   },
   "outputs": [],
   "source": [
    "test.SilhouttePlot(U_S = False)"
   ]
  },
  {
   "cell_type": "markdown",
   "metadata": {},
   "source": [
    "Plots the metagenes in an boxplot"
   ]
  },
  {
   "cell_type": "code",
   "execution_count": null,
   "metadata": {
    "scrolled": true
   },
   "outputs": [],
   "source": [
    "test.metaGenes(col_wrap = 2)"
   ]
  },
  {
   "cell_type": "markdown",
   "metadata": {},
   "source": [
    "Calculates the centroids for each sample. Distribution plot will be shown, and when plotting the genexpression as labels for the samples"
   ]
  },
  {
   "cell_type": "code",
   "execution_count": null,
   "metadata": {
    "scrolled": true
   },
   "outputs": [],
   "source": [
    "cp = '/USERS/jacobkarlstrom/projekt/SRIQ/notebook/data/extraData/wilkerson.2012.LAD.predictor.centroids.csv'\n",
    "test.calcCentroids(cp)"
   ]
  },
  {
   "cell_type": "markdown",
   "metadata": {},
   "source": [
    "## SAM analysis"
   ]
  },
  {
   "cell_type": "code",
   "execution_count": null,
   "metadata": {
    "scrolled": false
   },
   "outputs": [],
   "source": [
    "props = '/Users/jacobkarlstrom/projekt/SRIQ/software/VRLA/resources/test.properties'\n",
    "expressionData = '/Users/jacobkarlstrom/projekt/SRIQ/notebook/data/expressionData/uppGex(15k).txt'\n",
    "dist = 0.55\n",
    "\n",
    "test.samAnalysis(properties = props, expressionData = expressionData, dist = dist, spiral = True)"
   ]
  },
  {
   "cell_type": "markdown",
   "metadata": {},
   "source": [
    "### Visualizing DEG"
   ]
  },
  {
   "cell_type": "code",
   "execution_count": null,
   "metadata": {
    "scrolled": false
   },
   "outputs": [],
   "source": [
    "resultsPath = '/Users/jacobkarlstrom/projekt/SRIQ/notebook/data/expressionData/LUAD_ens_q_10000itr_1200var_10r/10000/QC_Spiral(false)/Results_log_0.61_6/LUAD_ens_q_Data_in_6_ClusterOrder_ABS_Unique.txt'\n",
    "#resultsPath = '/Users/jacobkarlstrom/projekt/SRIQ/notebook/data/expressionData/Uppsala_10000itr_1200var_10r/10000/QC_Spiral(true)/Results_log_0.55_6/Uppsala_Data_in_6_ClusterOrder_ABS_Unique.txt'\n",
    "\n",
    "\n",
    "test.plotSamResults(resultsPath)\n",
    "\n",
    "newC = test.results.columns.tolist()[1:]\n",
    "test.results = test.results.iloc[:,0:-1]\n",
    "test.results.columns = newC"
   ]
  },
  {
   "cell_type": "markdown",
   "metadata": {},
   "source": [
    "## T-test or Mann-whitney U-test"
   ]
  },
  {
   "cell_type": "markdown",
   "metadata": {},
   "source": [
    "Filter variance, both bottom and top can be filtered."
   ]
  },
  {
   "cell_type": "code",
   "execution_count": null,
   "metadata": {
    "scrolled": true
   },
   "outputs": [],
   "source": [
    "bottom = 0.7\n",
    "top = 0.95\n",
    "test.filterVariantGenes(top = top, bottom = bottom)"
   ]
  },
  {
   "cell_type": "markdown",
   "metadata": {},
   "source": [
    "Performs desired test for differential gene expression analysis."
   ]
  },
  {
   "cell_type": "code",
   "execution_count": null,
   "metadata": {
    "scrolled": false
   },
   "outputs": [],
   "source": [
    "test.diffGeneAnalysis(test = 'mannwhitneyu')"
   ]
  },
  {
   "cell_type": "markdown",
   "metadata": {},
   "source": [
    "Filter the significant genes based of desired filteringtype."
   ]
  },
  {
   "cell_type": "code",
   "execution_count": null,
   "metadata": {
    "scrolled": true
   },
   "outputs": [],
   "source": [
    "test.filterEnrichedGenes(filteringType = 'log2fold', threshold = 2, csvpath = 'data/expressionData/fpkm.csv')"
   ]
  },
  {
   "cell_type": "markdown",
   "metadata": {},
   "source": [
    "# Add features from data folder"
   ]
  },
  {
   "cell_type": "markdown",
   "metadata": {},
   "source": [
    "To run this module you need clinical with followup data if running on TCGA data from https://gdc.cancer.gov/about-data/publications/pancanatlas in clinicalData folder"
   ]
  },
  {
   "cell_type": "code",
   "execution_count": null,
   "metadata": {},
   "outputs": [],
   "source": [
    "import pandas as pd\n",
    "if isinstance(test.col_colors, pd.DataFrame): test.col_colors = test.col_colors['Clusters']\n",
    "test.calcCentroids()\n",
    "e , k, a = 'egfr_mutation_result','kras_mutation_result', 'eml4_alk_translocation_result'\n",
    "test.addFeature(feature = 'tobacco_smoking_history', attr = 'Lifelong Non-smoker', censor='[Not Available]', title = 'Never-smokers')\n",
    "test.addFeature(feature = 'gender', attr = 'MALE', title = 'Males')\n",
    "test.addFeature(feature = 'gender', attr = 'FEMALE', title = 'Females')\n",
    "\n",
    "test.addFeature(feature = e, attr = 'NO',censor = '[Not Available]', title = e)\n",
    "test.addFeature(feature = k, attr = 'NO',censor = '[Not Available]', title = k)"
   ]
  },
  {
   "cell_type": "markdown",
   "metadata": {},
   "source": [
    "Plots a clustermap of the result"
   ]
  },
  {
   "cell_type": "code",
   "execution_count": null,
   "metadata": {
    "scrolled": true
   },
   "outputs": [],
   "source": [
    "test.plotEnrichedGenes(vmin = -1, vmax = 1, row_cluster= True)"
   ]
  },
  {
   "cell_type": "code",
   "execution_count": null,
   "metadata": {},
   "outputs": [],
   "source": [
    "g = sns.clustermap(test.samDf, vmin = -1, vmax  = 1, cmap = 'vlag', col_colors = test.col_colors, col_cluster = False, row_cluster = False)\n",
    "\n",
    "g.ax_heatmap.set_xticks([])\n",
    "g.ax_heatmap.set_yticks([])"
   ]
  },
  {
   "cell_type": "markdown",
   "metadata": {},
   "source": [
    "Kaplan meier plot"
   ]
  },
  {
   "cell_type": "code",
   "execution_count": null,
   "metadata": {
    "scrolled": true
   },
   "outputs": [],
   "source": [
    "test.kaplanMeier()"
   ]
  },
  {
   "cell_type": "markdown",
   "metadata": {},
   "source": [
    "## Enrichment analysis"
   ]
  },
  {
   "cell_type": "markdown",
   "metadata": {},
   "source": [
    "Converts the enrichment list to symbols if in ensembleIDs"
   ]
  },
  {
   "cell_type": "code",
   "execution_count": null,
   "metadata": {},
   "outputs": [],
   "source": [
    "test.tList = [[x.split('.')[0] for x in l] for l in test.tList]"
   ]
  },
  {
   "cell_type": "code",
   "execution_count": null,
   "metadata": {
    "scrolled": true
   },
   "outputs": [],
   "source": [
    "test.ensemble2gene()"
   ]
  },
  {
   "cell_type": "markdown",
   "metadata": {},
   "source": [
    "Fetches the most significant dbs for each cluster and saves them into a list called dbs"
   ]
  },
  {
   "cell_type": "code",
   "execution_count": null,
   "metadata": {
    "scrolled": false
   },
   "outputs": [],
   "source": [
    "goDbs = ['GO_Biological_Process_2018', 'GO_Cellular_Component_2018', 'GO_Molecular_Function_2018']\n",
    "test.enrichR(dbs = goDbs)"
   ]
  },
  {
   "cell_type": "code",
   "execution_count": null,
   "metadata": {},
   "outputs": [],
   "source": [
    "eDf = test.goEnrichDf"
   ]
  },
  {
   "cell_type": "code",
   "execution_count": null,
   "metadata": {
    "scrolled": true
   },
   "outputs": [],
   "source": [
    "eDf['cluster'] = [1 if x == '1.0 up' else 2 if x == '1 down' else 3 if x == '2.0 up' else 4 if x == '2 down' else 5 if x == '3.0 up' else x for x in eDf['cluster'].tolist()]"
   ]
  },
  {
   "cell_type": "code",
   "execution_count": null,
   "metadata": {},
   "outputs": [],
   "source": [
    "import pandas as pd\n",
    "\n",
    "ups = [str(i)+'.0 up' for i in range(1, 7)]\n",
    "downs = [str(i)+' down' for i in range(1, 7)]\n",
    "uppEDf = eDf[eDf['cluster'].isin(ups)]\n",
    "downEDf = eDf[eDf['cluster'].isin(downs)]\n",
    "\n",
    "\n",
    "tempDf = pd.DataFrame()\n",
    "for up in ups:\n",
    "    temp = uppEDf[uppEDf['cluster'] == up].iloc[:5,:]\n",
    "    tempDf = pd.concat([temp, tempDf], axis = 0)\n",
    "uppEDf = tempDf\n",
    "\n",
    "tempDf = pd.DataFrame()\n",
    "for down in downs:\n",
    "    temp = downEDf[downEDf['cluster'] == down].iloc[:5,:]\n",
    "    tempDf = pd.concat([temp, tempDf], axis = 0)\n",
    "downEDf = tempDf\n"
   ]
  },
  {
   "cell_type": "code",
   "execution_count": null,
   "metadata": {
    "scrolled": false
   },
   "outputs": [],
   "source": [
    "import seaborn as sns\n",
    "\n",
    "c  = sns.dark_palette(\"red\")\n",
    "g = sns.clustermap(eDf.pivot(index = 1, columns = 'cluster', values = 2).fillna(0).transpose(), vmax =5, col_cluster = False, cmap = c)\n",
    "\n",
    "#g.ax_heatmap.set_xticks([1,2,3,4,5])"
   ]
  },
  {
   "cell_type": "code",
   "execution_count": null,
   "metadata": {
    "scrolled": true
   },
   "outputs": [],
   "source": [
    "test.plotEnrichmentResults(u_d='down')"
   ]
  },
  {
   "cell_type": "markdown",
   "metadata": {},
   "source": [
    "Survival analysis"
   ]
  },
  {
   "cell_type": "markdown",
   "metadata": {},
   "source": [
    "## Visualing genes"
   ]
  },
  {
   "cell_type": "markdown",
   "metadata": {},
   "source": [
    "Takes single list of genes as argument"
   ]
  },
  {
   "cell_type": "code",
   "execution_count": null,
   "metadata": {
    "scrolled": false
   },
   "outputs": [],
   "source": [
    "test.plotSingleGene(['KRAS', 'EGFR'])"
   ]
  },
  {
   "cell_type": "markdown",
   "metadata": {},
   "source": [
    "Takes list of lists of genes as argument"
   ]
  },
  {
   "cell_type": "code",
   "execution_count": null,
   "metadata": {
    "scrolled": false
   },
   "outputs": [],
   "source": [
    "test.plotMultipleGenes(['KRAS', 'EGFR'])"
   ]
  },
  {
   "cell_type": "markdown",
   "metadata": {},
   "source": [
    "### TCGA data analysis"
   ]
  },
  {
   "cell_type": "markdown",
   "metadata": {},
   "source": [
    "To run follow module, signature profiles need to be downloaded from http://tardis.cgu.edu.tw/msignaturedb/ or create on your own if not available using https://cancer.sanger.ac.uk/signatures/ into the clinicalData folder"
   ]
  },
  {
   "cell_type": "code",
   "execution_count": null,
   "metadata": {},
   "outputs": [],
   "source": [
    "import pandas as pd\n",
    "sDf = test.sigDf.loc['Signature.4']\n",
    "nDf = test.gexDf\n",
    "nDf.columns = ['-'.join(x.split('-')[:3]) for x in nDf.columns]\n",
    "concDf = pd.concat([sDf, test.gexDf.loc['Clusters']],axis = 'columns')"
   ]
  },
  {
   "cell_type": "code",
   "execution_count": null,
   "metadata": {},
   "outputs": [],
   "source": [
    "concDf['Clusters'] = [3.0 if x == 5 else 5.0 if x == 3 else 2.0 if x == 4 else 4.0 if x == 2 else x  for x in concDf['Clusters']]"
   ]
  },
  {
   "cell_type": "code",
   "execution_count": null,
   "metadata": {},
   "outputs": [],
   "source": [
    "import seaborn as sns\n",
    "\n",
    "sns.boxplot(data = concDf, x = 'Clusters', y = 'Signature.4')"
   ]
  },
  {
   "cell_type": "code",
   "execution_count": null,
   "metadata": {},
   "outputs": [],
   "source": [
    "sns.clustermap(test.sigDf, col_colors = test.col_colors, col_cluster = False, row_cluster = False)"
   ]
  },
  {
   "cell_type": "code",
   "execution_count": null,
   "metadata": {
    "scrolled": true
   },
   "outputs": [],
   "source": [
    "test.plotSignatures()"
   ]
  },
  {
   "cell_type": "markdown",
   "metadata": {},
   "source": [
    "To run following module data from https://gdc.cancer.gov/about-data/publications/panimmune need to be imported into the clinicalData folder."
   ]
  },
  {
   "cell_type": "code",
   "execution_count": null,
   "metadata": {
    "scrolled": true
   },
   "outputs": [],
   "source": [
    "test.boxplotExternalData(3)"
   ]
  },
  {
   "cell_type": "markdown",
   "metadata": {},
   "source": [
    "# Export to GSEA"
   ]
  },
  {
   "cell_type": "markdown",
   "metadata": {},
   "source": [
    "Starts writing the .cls file"
   ]
  },
  {
   "cell_type": "code",
   "execution_count": null,
   "metadata": {
    "scrolled": true
   },
   "outputs": [],
   "source": [
    "output =f'{len(test.gexDf.columns.tolist())} {len(test.sortedClusterList)} 1'\n",
    "output += f'\\n# {\" \".join([str(i) for i in range(1, 1+len(test.sortedClusterList))])}'\n",
    "lista = [str(int(x)) for x in list(test.transposedGexDf['Clusters'])]"
   ]
  },
  {
   "cell_type": "markdown",
   "metadata": {},
   "source": [
    "Run ONLY if you want to combine clusters together"
   ]
  },
  {
   "cell_type": "code",
   "execution_count": null,
   "metadata": {},
   "outputs": [],
   "source": [
    "lista = ['1' if x != '4' else '2' for x in lista]"
   ]
  },
  {
   "cell_type": "markdown",
   "metadata": {},
   "source": [
    "Writes the .cls file"
   ]
  },
  {
   "cell_type": "code",
   "execution_count": null,
   "metadata": {},
   "outputs": [],
   "source": [
    "output += f'\\n{\" \".join(lista)}'\n",
    "with open('data/gsea/data.cls', 'w') as file:\n",
    "    file.write(output)"
   ]
  },
  {
   "cell_type": "markdown",
   "metadata": {},
   "source": [
    "Fetches the symbol names to be used in gsea"
   ]
  },
  {
   "cell_type": "code",
   "execution_count": null,
   "metadata": {},
   "outputs": [],
   "source": [
    "test.ensembl2symbol()"
   ]
  },
  {
   "cell_type": "markdown",
   "metadata": {},
   "source": [
    "Creates expression file for gsea"
   ]
  },
  {
   "cell_type": "code",
   "execution_count": null,
   "metadata": {},
   "outputs": [],
   "source": [
    "import numpy as np\n",
    "# df = test.symbolDf.filter(items = allGenes, axis = 'index')\n",
    "df = test.symbolDf\n",
    "df.insert(0, 'NAME', value  = df.index.tolist())\n",
    "df.insert(1, 'DESCRIPTION', [np.nan for x in range(len(df.index))])"
   ]
  },
  {
   "cell_type": "code",
   "execution_count": null,
   "metadata": {},
   "outputs": [],
   "source": [
    "import itertools\n",
    "allGenes =  (list(itertools.chain.from_iterable(test.eList)))"
   ]
  },
  {
   "cell_type": "code",
   "execution_count": null,
   "metadata": {},
   "outputs": [],
   "source": [
    "df = df[df['NAME'].isin(allGenes)]"
   ]
  },
  {
   "cell_type": "code",
   "execution_count": null,
   "metadata": {},
   "outputs": [],
   "source": [
    "df.to_csv('data/gsea/genes.txt', sep = '\\t', index = False)"
   ]
  },
  {
   "cell_type": "code",
   "execution_count": null,
   "metadata": {},
   "outputs": [],
   "source": []
  }
 ],
 "metadata": {
  "kernelspec": {
   "display_name": "Python 3",
   "language": "python",
   "name": "python3"
  },
  "language_info": {
   "codemirror_mode": {
    "name": "ipython",
    "version": 3
   },
   "file_extension": ".py",
   "mimetype": "text/x-python",
   "name": "python",
   "nbconvert_exporter": "python",
   "pygments_lexer": "ipython3",
   "version": "3.8.5"
  }
 },
 "nbformat": 4,
 "nbformat_minor": 4
}
